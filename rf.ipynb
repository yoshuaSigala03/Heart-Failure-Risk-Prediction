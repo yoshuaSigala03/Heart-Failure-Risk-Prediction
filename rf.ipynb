{
  "cells": [
    {
      "cell_type": "markdown",
      "metadata": {
        "id": "2bKMXfnfa14E"
      },
      "source": [
        "# Patient's Stroke Prediction\n"
      ]
    },
    {
      "cell_type": "code",
      "execution_count": 36,
      "metadata": {
        "colab": {
          "base_uri": "https://localhost:8080/"
        },
        "id": "kzHi4SvAghdC",
        "outputId": "0398f9b8-e333-477b-8537-61d2a276cf4d"
      },
      "outputs": [],
      "source": [
        "# Library\n",
        "import pandas as pd\n",
        "import numpy as np\n",
        "import matplotlib.pyplot as plt\n",
        "import seaborn as sns\n",
        "import shap\n",
        "from IPython.display import display\n",
        "\n",
        "# Feature Engineering\n",
        "from sklearn.pipeline import Pipeline\n",
        "from sklearn.impute import SimpleImputer\n",
        "from sklearn.preprocessing import OneHotEncoder, RobustScaler, OrdinalEncoder, StandardScaler\n",
        "from sklearn.compose import ColumnTransformer\n",
        "\n",
        "# Model Selection and Classification Model\n",
        "from sklearn.model_selection import GridSearchCV,StratifiedKFold,train_test_split,cross_val_score,RandomizedSearchCV\n",
        "from sklearn.linear_model import LogisticRegression\n",
        "from sklearn.tree import DecisionTreeClassifier\n",
        "from sklearn.neighbors import KNeighborsClassifier\n",
        "from sklearn.ensemble import RandomForestClassifier\n",
        "from sklearn.ensemble import AdaBoostClassifier, VotingClassifier, StackingClassifier\n",
        "from xgboost import XGBClassifier\n",
        "from sklearn.ensemble import GradientBoostingClassifier\n",
        "from sklearn.preprocessing import PolynomialFeatures\n",
        "\n",
        "# Evaluation Metrics\n",
        "from sklearn.metrics import classification_report, confusion_matrix\n",
        "from sklearn.metrics import accuracy_score, precision_score, recall_score, f1_score\n",
        "from sklearn.metrics import roc_auc_score\n",
        "from sklearn.metrics import roc_curve, auc\n",
        "from sklearn.metrics import precision_recall_curve\n",
        "from sklearn.metrics import fbeta_score\n",
        "from sklearn.metrics import RocCurveDisplay\n",
        "from sklearn.feature_selection import SelectFromModel\n",
        "import pickle\n",
        "\n",
        "# Imbalance Dataset\n",
        "from imblearn.pipeline import Pipeline\n",
        "from imblearn.over_sampling import RandomOverSampler, SMOTE\n",
        "\n",
        "# Save model\n",
        "import joblib\n",
        "\n",
        "# Ignore Warning\n",
        "import sys\n",
        "import warnings\n",
        "if not sys.warnoptions:\n",
        "    warnings.simplefilter(\"ignore\")\n",
        "\n",
        "# SMOTE\n",
        "from imblearn.over_sampling import SMOTE, ADASYN\n",
        "from imblearn.pipeline import Pipeline as ImbPipeline\n",
        "from sklearn.utils import shuffle\n",
        "\n",
        "\n",
        "# # # Mount Drive\n",
        "# from google.colab import drive\n",
        "# drive.mount('/content/drive')\n",
        "\n",
        "# Set max columns\n",
        "# pd.set_option('display.max_colwidth', None)\n",
        "# pd.set_option('display.max_columns', None)"
      ]
    },
    {
      "cell_type": "markdown",
      "metadata": {
        "id": "_3EbB4tOh-IK"
      },
      "source": [
        "# Load Dataset"
      ]
    },
    {
      "cell_type": "code",
      "execution_count": 2,
      "metadata": {
        "colab": {
          "base_uri": "https://localhost:8080/",
          "height": 444
        },
        "id": "Ppta9Ksya2Ze",
        "outputId": "6d1db5ef-fc54-4a69-968e-c980a881a1aa"
      },
      "outputs": [
        {
          "data": {
            "text/html": [
              "<div>\n",
              "<style scoped>\n",
              "    .dataframe tbody tr th:only-of-type {\n",
              "        vertical-align: middle;\n",
              "    }\n",
              "\n",
              "    .dataframe tbody tr th {\n",
              "        vertical-align: top;\n",
              "    }\n",
              "\n",
              "    .dataframe thead th {\n",
              "        text-align: right;\n",
              "    }\n",
              "</style>\n",
              "<table border=\"1\" class=\"dataframe\">\n",
              "  <thead>\n",
              "    <tr style=\"text-align: right;\">\n",
              "      <th></th>\n",
              "      <th>age</th>\n",
              "      <th>anaemia</th>\n",
              "      <th>creatinine_phosphokinase</th>\n",
              "      <th>diabetes</th>\n",
              "      <th>ejection_fraction</th>\n",
              "      <th>high_blood_pressure</th>\n",
              "      <th>platelets</th>\n",
              "      <th>serum_creatinine</th>\n",
              "      <th>serum_sodium</th>\n",
              "      <th>sex</th>\n",
              "      <th>smoking</th>\n",
              "      <th>time</th>\n",
              "      <th>DEATH_EVENT</th>\n",
              "    </tr>\n",
              "  </thead>\n",
              "  <tbody>\n",
              "    <tr>\n",
              "      <th>0</th>\n",
              "      <td>75.0</td>\n",
              "      <td>0</td>\n",
              "      <td>582</td>\n",
              "      <td>0</td>\n",
              "      <td>20</td>\n",
              "      <td>1</td>\n",
              "      <td>265000.00</td>\n",
              "      <td>1.9</td>\n",
              "      <td>130</td>\n",
              "      <td>1</td>\n",
              "      <td>0</td>\n",
              "      <td>4</td>\n",
              "      <td>1</td>\n",
              "    </tr>\n",
              "    <tr>\n",
              "      <th>1</th>\n",
              "      <td>55.0</td>\n",
              "      <td>0</td>\n",
              "      <td>7861</td>\n",
              "      <td>0</td>\n",
              "      <td>38</td>\n",
              "      <td>0</td>\n",
              "      <td>263358.03</td>\n",
              "      <td>1.1</td>\n",
              "      <td>136</td>\n",
              "      <td>1</td>\n",
              "      <td>0</td>\n",
              "      <td>6</td>\n",
              "      <td>1</td>\n",
              "    </tr>\n",
              "    <tr>\n",
              "      <th>2</th>\n",
              "      <td>65.0</td>\n",
              "      <td>0</td>\n",
              "      <td>146</td>\n",
              "      <td>0</td>\n",
              "      <td>20</td>\n",
              "      <td>0</td>\n",
              "      <td>162000.00</td>\n",
              "      <td>1.3</td>\n",
              "      <td>129</td>\n",
              "      <td>1</td>\n",
              "      <td>1</td>\n",
              "      <td>7</td>\n",
              "      <td>1</td>\n",
              "    </tr>\n",
              "    <tr>\n",
              "      <th>3</th>\n",
              "      <td>50.0</td>\n",
              "      <td>1</td>\n",
              "      <td>111</td>\n",
              "      <td>0</td>\n",
              "      <td>20</td>\n",
              "      <td>0</td>\n",
              "      <td>210000.00</td>\n",
              "      <td>1.9</td>\n",
              "      <td>137</td>\n",
              "      <td>1</td>\n",
              "      <td>0</td>\n",
              "      <td>7</td>\n",
              "      <td>1</td>\n",
              "    </tr>\n",
              "    <tr>\n",
              "      <th>4</th>\n",
              "      <td>65.0</td>\n",
              "      <td>1</td>\n",
              "      <td>160</td>\n",
              "      <td>1</td>\n",
              "      <td>20</td>\n",
              "      <td>0</td>\n",
              "      <td>327000.00</td>\n",
              "      <td>2.7</td>\n",
              "      <td>116</td>\n",
              "      <td>0</td>\n",
              "      <td>0</td>\n",
              "      <td>8</td>\n",
              "      <td>1</td>\n",
              "    </tr>\n",
              "    <tr>\n",
              "      <th>...</th>\n",
              "      <td>...</td>\n",
              "      <td>...</td>\n",
              "      <td>...</td>\n",
              "      <td>...</td>\n",
              "      <td>...</td>\n",
              "      <td>...</td>\n",
              "      <td>...</td>\n",
              "      <td>...</td>\n",
              "      <td>...</td>\n",
              "      <td>...</td>\n",
              "      <td>...</td>\n",
              "      <td>...</td>\n",
              "      <td>...</td>\n",
              "    </tr>\n",
              "    <tr>\n",
              "      <th>294</th>\n",
              "      <td>62.0</td>\n",
              "      <td>0</td>\n",
              "      <td>61</td>\n",
              "      <td>1</td>\n",
              "      <td>38</td>\n",
              "      <td>1</td>\n",
              "      <td>155000.00</td>\n",
              "      <td>1.1</td>\n",
              "      <td>143</td>\n",
              "      <td>1</td>\n",
              "      <td>1</td>\n",
              "      <td>270</td>\n",
              "      <td>0</td>\n",
              "    </tr>\n",
              "    <tr>\n",
              "      <th>295</th>\n",
              "      <td>55.0</td>\n",
              "      <td>0</td>\n",
              "      <td>1820</td>\n",
              "      <td>0</td>\n",
              "      <td>38</td>\n",
              "      <td>0</td>\n",
              "      <td>270000.00</td>\n",
              "      <td>1.2</td>\n",
              "      <td>139</td>\n",
              "      <td>0</td>\n",
              "      <td>0</td>\n",
              "      <td>271</td>\n",
              "      <td>0</td>\n",
              "    </tr>\n",
              "    <tr>\n",
              "      <th>296</th>\n",
              "      <td>45.0</td>\n",
              "      <td>0</td>\n",
              "      <td>2060</td>\n",
              "      <td>1</td>\n",
              "      <td>60</td>\n",
              "      <td>0</td>\n",
              "      <td>742000.00</td>\n",
              "      <td>0.8</td>\n",
              "      <td>138</td>\n",
              "      <td>0</td>\n",
              "      <td>0</td>\n",
              "      <td>278</td>\n",
              "      <td>0</td>\n",
              "    </tr>\n",
              "    <tr>\n",
              "      <th>297</th>\n",
              "      <td>45.0</td>\n",
              "      <td>0</td>\n",
              "      <td>2413</td>\n",
              "      <td>0</td>\n",
              "      <td>38</td>\n",
              "      <td>0</td>\n",
              "      <td>140000.00</td>\n",
              "      <td>1.4</td>\n",
              "      <td>140</td>\n",
              "      <td>1</td>\n",
              "      <td>1</td>\n",
              "      <td>280</td>\n",
              "      <td>0</td>\n",
              "    </tr>\n",
              "    <tr>\n",
              "      <th>298</th>\n",
              "      <td>50.0</td>\n",
              "      <td>0</td>\n",
              "      <td>196</td>\n",
              "      <td>0</td>\n",
              "      <td>45</td>\n",
              "      <td>0</td>\n",
              "      <td>395000.00</td>\n",
              "      <td>1.6</td>\n",
              "      <td>136</td>\n",
              "      <td>1</td>\n",
              "      <td>1</td>\n",
              "      <td>285</td>\n",
              "      <td>0</td>\n",
              "    </tr>\n",
              "  </tbody>\n",
              "</table>\n",
              "<p>299 rows × 13 columns</p>\n",
              "</div>"
            ],
            "text/plain": [
              "      age  anaemia  creatinine_phosphokinase  diabetes  ejection_fraction  \\\n",
              "0    75.0        0                       582         0                 20   \n",
              "1    55.0        0                      7861         0                 38   \n",
              "2    65.0        0                       146         0                 20   \n",
              "3    50.0        1                       111         0                 20   \n",
              "4    65.0        1                       160         1                 20   \n",
              "..    ...      ...                       ...       ...                ...   \n",
              "294  62.0        0                        61         1                 38   \n",
              "295  55.0        0                      1820         0                 38   \n",
              "296  45.0        0                      2060         1                 60   \n",
              "297  45.0        0                      2413         0                 38   \n",
              "298  50.0        0                       196         0                 45   \n",
              "\n",
              "     high_blood_pressure  platelets  serum_creatinine  serum_sodium  sex  \\\n",
              "0                      1  265000.00               1.9           130    1   \n",
              "1                      0  263358.03               1.1           136    1   \n",
              "2                      0  162000.00               1.3           129    1   \n",
              "3                      0  210000.00               1.9           137    1   \n",
              "4                      0  327000.00               2.7           116    0   \n",
              "..                   ...        ...               ...           ...  ...   \n",
              "294                    1  155000.00               1.1           143    1   \n",
              "295                    0  270000.00               1.2           139    0   \n",
              "296                    0  742000.00               0.8           138    0   \n",
              "297                    0  140000.00               1.4           140    1   \n",
              "298                    0  395000.00               1.6           136    1   \n",
              "\n",
              "     smoking  time  DEATH_EVENT  \n",
              "0          0     4            1  \n",
              "1          0     6            1  \n",
              "2          1     7            1  \n",
              "3          0     7            1  \n",
              "4          0     8            1  \n",
              "..       ...   ...          ...  \n",
              "294        1   270            0  \n",
              "295        0   271            0  \n",
              "296        0   278            0  \n",
              "297        1   280            0  \n",
              "298        1   285            0  \n",
              "\n",
              "[299 rows x 13 columns]"
            ]
          },
          "execution_count": 2,
          "metadata": {},
          "output_type": "execute_result"
        }
      ],
      "source": [
        "df = pd.read_csv('heart_failure_clinical_records_dataset.csv')\n",
        "df"
      ]
    },
    {
      "cell_type": "code",
      "execution_count": 3,
      "metadata": {
        "colab": {
          "base_uri": "https://localhost:8080/",
          "height": 492
        },
        "id": "iTo72KC3lXzy",
        "outputId": "1858820d-2b7d-47ec-d373-c89932d664ba"
      },
      "outputs": [
        {
          "data": {
            "text/plain": [
              "age                         float64\n",
              "anaemia                       int64\n",
              "creatinine_phosphokinase      int64\n",
              "diabetes                      int64\n",
              "ejection_fraction             int64\n",
              "high_blood_pressure           int64\n",
              "platelets                   float64\n",
              "serum_creatinine            float64\n",
              "serum_sodium                  int64\n",
              "sex                           int64\n",
              "smoking                       int64\n",
              "time                          int64\n",
              "DEATH_EVENT                   int64\n",
              "dtype: object"
            ]
          },
          "execution_count": 3,
          "metadata": {},
          "output_type": "execute_result"
        }
      ],
      "source": [
        "df.dtypes"
      ]
    },
    {
      "cell_type": "code",
      "execution_count": 4,
      "metadata": {
        "colab": {
          "base_uri": "https://localhost:8080/",
          "height": 492
        },
        "id": "gLbnGT6xiBNk",
        "outputId": "6ac25693-8988-49fe-f47e-765192256776"
      },
      "outputs": [
        {
          "data": {
            "text/plain": [
              "age                         0\n",
              "anaemia                     0\n",
              "creatinine_phosphokinase    0\n",
              "diabetes                    0\n",
              "ejection_fraction           0\n",
              "high_blood_pressure         0\n",
              "platelets                   0\n",
              "serum_creatinine            0\n",
              "serum_sodium                0\n",
              "sex                         0\n",
              "smoking                     0\n",
              "time                        0\n",
              "DEATH_EVENT                 0\n",
              "dtype: int64"
            ]
          },
          "execution_count": 4,
          "metadata": {},
          "output_type": "execute_result"
        }
      ],
      "source": [
        "df.isna().sum()"
      ]
    },
    {
      "cell_type": "code",
      "execution_count": 5,
      "metadata": {
        "colab": {
          "base_uri": "https://localhost:8080/"
        },
        "id": "A95auOjNiBLT",
        "outputId": "5c784e18-7be0-4363-e185-652c46aaf821"
      },
      "outputs": [
        {
          "data": {
            "text/plain": [
              "0"
            ]
          },
          "execution_count": 5,
          "metadata": {},
          "output_type": "execute_result"
        }
      ],
      "source": [
        "df.duplicated().sum()"
      ]
    },
    {
      "cell_type": "markdown",
      "metadata": {
        "id": "PN_zcdmd4Z3_"
      },
      "source": [
        "# EDA"
      ]
    },
    {
      "cell_type": "code",
      "execution_count": 51,
      "metadata": {
        "colab": {
          "base_uri": "https://localhost:8080/",
          "height": 864
        },
        "id": "RtvK_JRr6Z_q",
        "outputId": "351988b5-2ef1-46e8-c161-e205cf932c34"
      },
      "outputs": [
        {
          "data": {
            "image/png": "[encoded data removed]",
            "text/plain": [
              "<Figure size 1080x720 with 7 Axes>"
            ]
          },
          "metadata": {
            "needs_background": "light"
          },
          "output_type": "display_data"
        }
      ],
      "source": [
        "# List of numerical features\n",
        "numerical_features = ['age', 'creatinine_phosphokinase', 'ejection_fraction', 'platelets', 'serum_creatinine', 'serum_sodium', 'time']\n",
        "\n",
        "# Create subplots for each feature\n",
        "plt.figure(figsize=(15, 10))\n",
        "for i, feature in enumerate(numerical_features, 1):\n",
        "    plt.subplot(3, 3, i)  # 3 rows, 3 columns of subplots\n",
        "    sns.histplot(data=df, x=feature, kde=True, bins=30)\n",
        "    plt.title(f'Distribution of {feature}')\n",
        "    plt.xlabel(feature)\n",
        "    plt.ylabel('Frequency')\n",
        "\n",
        "# Add a main title for the entire figure\n",
        "plt.suptitle('Distributions of Features', fontsize=16, y=1.02)\n",
        "plt.tight_layout()  # Adjust layout to prevent overlap\n",
        "plt.show()"
      ]
    },
    {
      "cell_type": "code",
      "execution_count": 49,
      "metadata": {},
      "outputs": [
        {
          "data": {
            "image/png": "[encoded data removed]",
            "text/plain": [
              "<Figure size 1080x720 with 6 Axes>"
            ]
          },
          "metadata": {
            "needs_background": "light"
          },
          "output_type": "display_data"
        }
      ],
      "source": [
        "# List of features to plot\n",
        "features = ['anaemia', 'diabetes', 'high_blood_pressure', 'sex', 'smoking', 'DEATH_EVENT']\n",
        "\n",
        "# Create subplots for each feature\n",
        "plt.figure(figsize=(15, 10))\n",
        "for i, feature in enumerate(features, 1):\n",
        "    plt.subplot(2, 3, i)  # 2 rows, 3 columns of subplots\n",
        "    sns.countplot(data=df, x=feature, palette='viridis')\n",
        "    plt.title(f'Distribution of {feature}')\n",
        "    plt.xlabel(feature)\n",
        "    plt.ylabel('Count')\n",
        "\n",
        "# Add a main title for the entire figure\n",
        "plt.suptitle('Distributions of Features', fontsize=16, y=1.02)\n",
        "plt.tight_layout()  # Adjust layout to prevent overlap\n",
        "plt.show()"
      ]
    },
    {
      "cell_type": "code",
      "execution_count": 7,
      "metadata": {
        "colab": {
          "base_uri": "https://localhost:8080/",
          "height": 713
        },
        "id": "gQu7EJjnkpTx",
        "outputId": "f0648030-1680-4962-fd9b-f7e5774f328b"
      },
      "outputs": [
        {
          "data": {
            "image/png": "[encoded data removed]",
            "text/plain": [
              "<Figure size 720x576 with 2 Axes>"
            ]
          },
          "metadata": {
            "needs_background": "light"
          },
          "output_type": "display_data"
        }
      ],
      "source": [
        "# Heatmap Matrix\n",
        "plt.figure(figsize=(10, 8))\n",
        "sns.heatmap(df.corr(), annot=True, cmap='coolwarm')\n",
        "plt.title('Correlation Matrix')\n",
        "plt.show()"
      ]
    },
    {
      "cell_type": "code",
      "execution_count": 8,
      "metadata": {
        "colab": {
          "base_uri": "https://localhost:8080/",
          "height": 791
        },
        "id": "z0Zp74knvntQ",
        "outputId": "deedf22f-3973-422e-8eb9-f9239e586f8a"
      },
      "outputs": [
        {
          "data": {
            "image/png": "[encoded data removed]",
            "text/plain": [
              "<Figure size 1080x1080 with 15 Axes>"
            ]
          },
          "metadata": {
            "needs_background": "light"
          },
          "output_type": "display_data"
        }
      ],
      "source": [
        "# Visual for outlier of all columns\n",
        "fig, axes = plt.subplots(nrows=5, ncols=3, figsize=(15, 15))\n",
        "for i, column in enumerate(df.columns):\n",
        "    row = i // 3\n",
        "    col = i % 3\n",
        "    sns.boxplot(x=df[column], ax=axes[row, col])\n",
        "    axes[row, col].set_title(column)\n",
        "plt.tight_layout()\n",
        "plt.show()\n"
      ]
    },
    {
      "cell_type": "markdown",
      "metadata": {
        "id": "lcaX0_kz4xi2"
      },
      "source": [
        "# Define X and y"
      ]
    },
    {
      "cell_type": "code",
      "execution_count": 9,
      "metadata": {
        "colab": {
          "base_uri": "https://localhost:8080/",
          "height": 226
        },
        "id": "5wbRZ15JiBEV",
        "outputId": "060b2976-abea-4785-be1e-161247f23c89"
      },
      "outputs": [
        {
          "data": {
            "text/html": [
              "<div>\n",
              "<style scoped>\n",
              "    .dataframe tbody tr th:only-of-type {\n",
              "        vertical-align: middle;\n",
              "    }\n",
              "\n",
              "    .dataframe tbody tr th {\n",
              "        vertical-align: top;\n",
              "    }\n",
              "\n",
              "    .dataframe thead th {\n",
              "        text-align: right;\n",
              "    }\n",
              "</style>\n",
              "<table border=\"1\" class=\"dataframe\">\n",
              "  <thead>\n",
              "    <tr style=\"text-align: right;\">\n",
              "      <th></th>\n",
              "      <th>age</th>\n",
              "      <th>anaemia</th>\n",
              "      <th>creatinine_phosphokinase</th>\n",
              "      <th>diabetes</th>\n",
              "      <th>ejection_fraction</th>\n",
              "      <th>high_blood_pressure</th>\n",
              "      <th>platelets</th>\n",
              "      <th>serum_creatinine</th>\n",
              "      <th>serum_sodium</th>\n",
              "      <th>sex</th>\n",
              "      <th>smoking</th>\n",
              "    </tr>\n",
              "  </thead>\n",
              "  <tbody>\n",
              "    <tr>\n",
              "      <th>0</th>\n",
              "      <td>75.0</td>\n",
              "      <td>0</td>\n",
              "      <td>582</td>\n",
              "      <td>0</td>\n",
              "      <td>20</td>\n",
              "      <td>1</td>\n",
              "      <td>265000.00</td>\n",
              "      <td>1.9</td>\n",
              "      <td>130</td>\n",
              "      <td>1</td>\n",
              "      <td>0</td>\n",
              "    </tr>\n",
              "    <tr>\n",
              "      <th>1</th>\n",
              "      <td>55.0</td>\n",
              "      <td>0</td>\n",
              "      <td>7861</td>\n",
              "      <td>0</td>\n",
              "      <td>38</td>\n",
              "      <td>0</td>\n",
              "      <td>263358.03</td>\n",
              "      <td>1.1</td>\n",
              "      <td>136</td>\n",
              "      <td>1</td>\n",
              "      <td>0</td>\n",
              "    </tr>\n",
              "    <tr>\n",
              "      <th>2</th>\n",
              "      <td>65.0</td>\n",
              "      <td>0</td>\n",
              "      <td>146</td>\n",
              "      <td>0</td>\n",
              "      <td>20</td>\n",
              "      <td>0</td>\n",
              "      <td>162000.00</td>\n",
              "      <td>1.3</td>\n",
              "      <td>129</td>\n",
              "      <td>1</td>\n",
              "      <td>1</td>\n",
              "    </tr>\n",
              "    <tr>\n",
              "      <th>3</th>\n",
              "      <td>50.0</td>\n",
              "      <td>1</td>\n",
              "      <td>111</td>\n",
              "      <td>0</td>\n",
              "      <td>20</td>\n",
              "      <td>0</td>\n",
              "      <td>210000.00</td>\n",
              "      <td>1.9</td>\n",
              "      <td>137</td>\n",
              "      <td>1</td>\n",
              "      <td>0</td>\n",
              "    </tr>\n",
              "    <tr>\n",
              "      <th>4</th>\n",
              "      <td>65.0</td>\n",
              "      <td>1</td>\n",
              "      <td>160</td>\n",
              "      <td>1</td>\n",
              "      <td>20</td>\n",
              "      <td>0</td>\n",
              "      <td>327000.00</td>\n",
              "      <td>2.7</td>\n",
              "      <td>116</td>\n",
              "      <td>0</td>\n",
              "      <td>0</td>\n",
              "    </tr>\n",
              "  </tbody>\n",
              "</table>\n",
              "</div>"
            ],
            "text/plain": [
              "    age  anaemia  creatinine_phosphokinase  diabetes  ejection_fraction  \\\n",
              "0  75.0        0                       582         0                 20   \n",
              "1  55.0        0                      7861         0                 38   \n",
              "2  65.0        0                       146         0                 20   \n",
              "3  50.0        1                       111         0                 20   \n",
              "4  65.0        1                       160         1                 20   \n",
              "\n",
              "   high_blood_pressure  platelets  serum_creatinine  serum_sodium  sex  \\\n",
              "0                    1  265000.00               1.9           130    1   \n",
              "1                    0  263358.03               1.1           136    1   \n",
              "2                    0  162000.00               1.3           129    1   \n",
              "3                    0  210000.00               1.9           137    1   \n",
              "4                    0  327000.00               2.7           116    0   \n",
              "\n",
              "   smoking  \n",
              "0        0  \n",
              "1        0  \n",
              "2        1  \n",
              "3        0  \n",
              "4        0  "
            ]
          },
          "execution_count": 9,
          "metadata": {},
          "output_type": "execute_result"
        }
      ],
      "source": [
        "X = df.drop(['DEATH_EVENT', 'time'], axis=1)\n",
        "y = df['DEATH_EVENT']\n",
        "X.head()"
      ]
    },
    {
      "cell_type": "code",
      "execution_count": 10,
      "metadata": {
        "colab": {
          "base_uri": "https://localhost:8080/",
          "height": 241
        },
        "id": "1l36psltJBjo",
        "outputId": "24d7b51c-2d3d-4497-acaa-a5ca90ae8506"
      },
      "outputs": [
        {
          "data": {
            "text/plain": [
              "0    1\n",
              "1    1\n",
              "2    1\n",
              "3    1\n",
              "4    1\n",
              "Name: DEATH_EVENT, dtype: int64"
            ]
          },
          "execution_count": 10,
          "metadata": {},
          "output_type": "execute_result"
        }
      ],
      "source": [
        "y.head()"
      ]
    },
    {
      "cell_type": "code",
      "execution_count": 11,
      "metadata": {
        "colab": {
          "base_uri": "https://localhost:8080/",
          "height": 340
        },
        "id": "VmYZpbot4zPA",
        "outputId": "0ff17ec2-a103-4584-f994-527292a21543"
      },
      "outputs": [
        {
          "data": {
            "text/plain": [
              "DEATH_EVENT\n",
              "0    0.67893\n",
              "1    0.32107\n",
              "Name: count, dtype: float64"
            ]
          },
          "metadata": {},
          "output_type": "display_data"
        },
        {
          "data": {
            "text/plain": [
              "DEATH_EVENT\n",
              "0    203\n",
              "1     96\n",
              "Name: count, dtype: int64"
            ]
          },
          "metadata": {},
          "output_type": "display_data"
        }
      ],
      "source": [
        "display(df['DEATH_EVENT'].value_counts()/len(df))\n",
        "display(df['DEATH_EVENT'].value_counts())"
      ]
    },
    {
      "cell_type": "markdown",
      "metadata": {
        "id": "a99oB9an7jST"
      },
      "source": [
        "# Data Preparation"
      ]
    },
    {
      "cell_type": "code",
      "execution_count": 12,
      "metadata": {
        "id": "p7iYFqH5iBB-"
      },
      "outputs": [],
      "source": [
        "X_train, X_test, y_train, y_test = train_test_split(X,\n",
        "                                                    y,\n",
        "                                                    test_size=0.2,\n",
        "                                                    random_state=42,\n",
        "                                                    stratify=y)"
      ]
    },
    {
      "cell_type": "code",
      "execution_count": 13,
      "metadata": {
        "id": "HckneUDJls-g"
      },
      "outputs": [],
      "source": [
        "scaler = RobustScaler()\n",
        "df[['age', 'creatinine_phosphokinase', 'platelets', 'serum_creatinine', 'serum_sodium', 'ejection_fraction']] = scaler.fit_transform(\n",
        "    df[['age', 'creatinine_phosphokinase', 'platelets', 'serum_creatinine', 'serum_sodium', 'ejection_fraction']]\n",
        ")\n"
      ]
    },
    {
      "cell_type": "markdown",
      "metadata": {
        "id": "qkAWIEfj8-2s"
      },
      "source": [
        "# Model Selection & Cross Validation"
      ]
    },
    {
      "cell_type": "code",
      "execution_count": 14,
      "metadata": {
        "id": "hcHQKXgViA9p"
      },
      "outputs": [],
      "source": [
        "logreg = LogisticRegression(max_iter=1000, random_state=42)\n",
        "dt = DecisionTreeClassifier(random_state=42)\n",
        "knn = KNeighborsClassifier()\n",
        "rf = RandomForestClassifier(random_state=42)\n",
        "ada = AdaBoostClassifier(random_state=42)\n",
        "gb = GradientBoostingClassifier(random_state=42)\n",
        "voting = VotingClassifier(estimators=[('logreg', logreg), ('dt', dt), ('knn', knn), ('rf', rf), ('ada', ada), ('gb', gb)], voting='soft')\n",
        "stacking = StackingClassifier(estimators=[('logreg', logreg), ('dt', dt), ('knn', knn), ('rf', rf), ('ada', ada), ('gb', gb)], final_estimator=LogisticRegression())\n",
        "\n",
        "smote = SMOTE(sampling_strategy='auto', random_state=42)\n"
      ]
    },
    {
      "cell_type": "code",
      "execution_count": 15,
      "metadata": {
        "colab": {
          "base_uri": "https://localhost:8080/"
        },
        "id": "stV-2G59iA7y",
        "outputId": "8086731b-cfbc-4ade-fd4a-1bd8448b34af"
      },
      "outputs": [
        {
          "name": "stdout",
          "output_type": "stream",
          "text": [
            "Logistic Regression: Mean f1 = 0.6074, Std = 0.0848\n",
            "Decision Tree: Mean f1 = 0.4737, Std = 0.0964\n",
            "K-Nearest Neighbors: Mean f1 = 0.5804, Std = 0.0584\n",
            "Random Forest: Mean f1 = 0.6033, Std = 0.0377\n",
            "AdaBoost: Mean f1 = 0.5850, Std = 0.0848\n",
            "Gradient Boosting: Mean f1 = 0.5683, Std = 0.0915\n",
            "Voting: Mean f1 = 0.5960, Std = 0.1041\n",
            "Stacking: Mean f1 = 0.6204, Std = 0.0900\n"
          ]
        }
      ],
      "source": [
        "list_model = [logreg, dt, knn, rf, ada, gb, voting, stacking]\n",
        "model_names = ['Logistic Regression', 'Decision Tree', 'K-Nearest Neighbors',\n",
        "               'Random Forest', 'AdaBoost', 'Gradient Boosting', 'Voting', 'Stacking']\n",
        "scoring = 'f1'\n",
        "list_all_score = []\n",
        "list_mean_score = []\n",
        "list_std = []\n",
        "\n",
        "# Cross-validation loop\n",
        "for model, name in zip(list_model, model_names):\n",
        "\n",
        "    # Create pipeline with preprocessing and model\n",
        "    pipe_prep_model_initial = Pipeline([\n",
        "        ('preprocessing', scaler),\n",
        "        ('smote', smote),\n",
        "        ('modeling', model)\n",
        "    ])\n",
        "\n",
        "    # Perform cross-validation\n",
        "    crossval = cross_val_score(pipe_prep_model_initial, X_train, y_train, cv=5, scoring=scoring, n_jobs=1)\n",
        "\n",
        "    # Store results\n",
        "    list_all_score.append(crossval.round(2))\n",
        "    list_mean_score.append(crossval.mean())\n",
        "    list_std.append(crossval.std())\n",
        "\n",
        "    # Print results for each model\n",
        "    print(f'{name}: Mean {scoring} = {crossval.mean():.4f}, Std = {crossval.std():.4f}')"
      ]
    },
    {
      "cell_type": "code",
      "execution_count": 16,
      "metadata": {
        "colab": {
          "base_uri": "https://localhost:8080/",
          "height": 439
        },
        "id": "Sqwt0YIxiA4k",
        "outputId": "3daff9e0-b157-4dd1-eb56-9400e0ef544f"
      },
      "outputs": [
        {
          "data": {
            "text/html": [
              "<div>\n",
              "<style scoped>\n",
              "    .dataframe tbody tr th:only-of-type {\n",
              "        vertical-align: middle;\n",
              "    }\n",
              "\n",
              "    .dataframe tbody tr th {\n",
              "        vertical-align: top;\n",
              "    }\n",
              "\n",
              "    .dataframe thead th {\n",
              "        text-align: right;\n",
              "    }\n",
              "</style>\n",
              "<table border=\"1\" class=\"dataframe\">\n",
              "  <thead>\n",
              "    <tr style=\"text-align: right;\">\n",
              "      <th></th>\n",
              "      <th>algorithm_model</th>\n",
              "      <th>all_acc_score</th>\n",
              "      <th>mean_acc_score</th>\n",
              "      <th>std_score</th>\n",
              "    </tr>\n",
              "  </thead>\n",
              "  <tbody>\n",
              "    <tr>\n",
              "      <th>7</th>\n",
              "      <td>StackingClassifier(estimators=[('logreg',\\n   ...</td>\n",
              "      <td>[0.5, 0.55, 0.76, 0.67, 0.62]</td>\n",
              "      <td>0.620402</td>\n",
              "      <td>0.089977</td>\n",
              "    </tr>\n",
              "    <tr>\n",
              "      <th>0</th>\n",
              "      <td>LogisticRegression(max_iter=1000, random_state...</td>\n",
              "      <td>[0.47, 0.67, 0.69, 0.67, 0.55]</td>\n",
              "      <td>0.607375</td>\n",
              "      <td>0.084848</td>\n",
              "    </tr>\n",
              "    <tr>\n",
              "      <th>3</th>\n",
              "      <td>RandomForestClassifier(random_state=42)</td>\n",
              "      <td>[0.53, 0.6, 0.62, 0.64, 0.62]</td>\n",
              "      <td>0.603315</td>\n",
              "      <td>0.037651</td>\n",
              "    </tr>\n",
              "    <tr>\n",
              "      <th>6</th>\n",
              "      <td>VotingClassifier(estimators=[('logreg',\\n     ...</td>\n",
              "      <td>[0.45, 0.52, 0.71, 0.71, 0.59]</td>\n",
              "      <td>0.595988</td>\n",
              "      <td>0.104117</td>\n",
              "    </tr>\n",
              "    <tr>\n",
              "      <th>4</th>\n",
              "      <td>AdaBoostClassifier(random_state=42)</td>\n",
              "      <td>[0.56, 0.52, 0.65, 0.71, 0.48]</td>\n",
              "      <td>0.585024</td>\n",
              "      <td>0.084788</td>\n",
              "    </tr>\n",
              "    <tr>\n",
              "      <th>2</th>\n",
              "      <td>KNeighborsClassifier()</td>\n",
              "      <td>[0.57, 0.48, 0.67, 0.6, 0.58]</td>\n",
              "      <td>0.580378</td>\n",
              "      <td>0.058376</td>\n",
              "    </tr>\n",
              "    <tr>\n",
              "      <th>5</th>\n",
              "      <td>GradientBoostingClassifier(random_state=42)</td>\n",
              "      <td>[0.47, 0.52, 0.69, 0.67, 0.5]</td>\n",
              "      <td>0.568301</td>\n",
              "      <td>0.091516</td>\n",
              "    </tr>\n",
              "    <tr>\n",
              "      <th>1</th>\n",
              "      <td>DecisionTreeClassifier(random_state=42)</td>\n",
              "      <td>[0.31, 0.41, 0.55, 0.55, 0.54]</td>\n",
              "      <td>0.473651</td>\n",
              "      <td>0.096400</td>\n",
              "    </tr>\n",
              "  </tbody>\n",
              "</table>\n",
              "</div>"
            ],
            "text/plain": [
              "                                     algorithm_model  \\\n",
              "7  StackingClassifier(estimators=[('logreg',\\n   ...   \n",
              "0  LogisticRegression(max_iter=1000, random_state...   \n",
              "3            RandomForestClassifier(random_state=42)   \n",
              "6  VotingClassifier(estimators=[('logreg',\\n     ...   \n",
              "4                AdaBoostClassifier(random_state=42)   \n",
              "2                             KNeighborsClassifier()   \n",
              "5        GradientBoostingClassifier(random_state=42)   \n",
              "1            DecisionTreeClassifier(random_state=42)   \n",
              "\n",
              "                    all_acc_score  mean_acc_score  std_score  \n",
              "7   [0.5, 0.55, 0.76, 0.67, 0.62]        0.620402   0.089977  \n",
              "0  [0.47, 0.67, 0.69, 0.67, 0.55]        0.607375   0.084848  \n",
              "3   [0.53, 0.6, 0.62, 0.64, 0.62]        0.603315   0.037651  \n",
              "6  [0.45, 0.52, 0.71, 0.71, 0.59]        0.595988   0.104117  \n",
              "4  [0.56, 0.52, 0.65, 0.71, 0.48]        0.585024   0.084788  \n",
              "2   [0.57, 0.48, 0.67, 0.6, 0.58]        0.580378   0.058376  \n",
              "5   [0.47, 0.52, 0.69, 0.67, 0.5]        0.568301   0.091516  \n",
              "1  [0.31, 0.41, 0.55, 0.55, 0.54]        0.473651   0.096400  "
            ]
          },
          "execution_count": 16,
          "metadata": {},
          "output_type": "execute_result"
        }
      ],
      "source": [
        "df_initial = pd.DataFrame()\n",
        "df_initial['algorithm_model'] = list_model\n",
        "df_initial['all_acc_score'] = list_all_score\n",
        "df_initial['mean_acc_score'] = list_mean_score\n",
        "df_initial['std_score'] = list_std\n",
        "\n",
        "df_initial.sort_values(by = 'mean_acc_score', ascending=False)"
      ]
    },
    {
      "cell_type": "code",
      "execution_count": 17,
      "metadata": {
        "colab": {
          "base_uri": "https://localhost:8080/",
          "height": 387
        },
        "id": "XYgiZ-IWDKCF",
        "outputId": "26ecf6b3-9465-4091-fe70-2afc61c1eb7b"
      },
      "outputs": [
        {
          "data": {
            "text/html": [
              "<div>\n",
              "<style scoped>\n",
              "    .dataframe tbody tr th:only-of-type {\n",
              "        vertical-align: middle;\n",
              "    }\n",
              "\n",
              "    .dataframe tbody tr th {\n",
              "        vertical-align: top;\n",
              "    }\n",
              "\n",
              "    .dataframe thead th {\n",
              "        text-align: right;\n",
              "    }\n",
              "</style>\n",
              "<table border=\"1\" class=\"dataframe\">\n",
              "  <thead>\n",
              "    <tr style=\"text-align: right;\">\n",
              "      <th></th>\n",
              "      <th>algorithm_model</th>\n",
              "      <th>all_rec_score</th>\n",
              "      <th>mean_rec_score</th>\n",
              "      <th>std_score</th>\n",
              "    </tr>\n",
              "  </thead>\n",
              "  <tbody>\n",
              "    <tr>\n",
              "      <th>7</th>\n",
              "      <td>StackingClassifier(estimators=[('logreg',\\n   ...</td>\n",
              "      <td>[0.5, 0.55, 0.76, 0.67, 0.62]</td>\n",
              "      <td>0.620402</td>\n",
              "      <td>0.089977</td>\n",
              "    </tr>\n",
              "    <tr>\n",
              "      <th>0</th>\n",
              "      <td>LogisticRegression(max_iter=1000, random_state...</td>\n",
              "      <td>[0.47, 0.67, 0.69, 0.67, 0.55]</td>\n",
              "      <td>0.607375</td>\n",
              "      <td>0.084848</td>\n",
              "    </tr>\n",
              "    <tr>\n",
              "      <th>3</th>\n",
              "      <td>RandomForestClassifier(random_state=42)</td>\n",
              "      <td>[0.53, 0.6, 0.62, 0.64, 0.62]</td>\n",
              "      <td>0.603315</td>\n",
              "      <td>0.037651</td>\n",
              "    </tr>\n",
              "    <tr>\n",
              "      <th>6</th>\n",
              "      <td>VotingClassifier(estimators=[('logreg',\\n     ...</td>\n",
              "      <td>[0.45, 0.52, 0.71, 0.71, 0.59]</td>\n",
              "      <td>0.595988</td>\n",
              "      <td>0.104117</td>\n",
              "    </tr>\n",
              "    <tr>\n",
              "      <th>4</th>\n",
              "      <td>AdaBoostClassifier(random_state=42)</td>\n",
              "      <td>[0.56, 0.52, 0.65, 0.71, 0.48]</td>\n",
              "      <td>0.585024</td>\n",
              "      <td>0.084788</td>\n",
              "    </tr>\n",
              "    <tr>\n",
              "      <th>2</th>\n",
              "      <td>KNeighborsClassifier()</td>\n",
              "      <td>[0.57, 0.48, 0.67, 0.6, 0.58]</td>\n",
              "      <td>0.580378</td>\n",
              "      <td>0.058376</td>\n",
              "    </tr>\n",
              "    <tr>\n",
              "      <th>5</th>\n",
              "      <td>GradientBoostingClassifier(random_state=42)</td>\n",
              "      <td>[0.47, 0.52, 0.69, 0.67, 0.5]</td>\n",
              "      <td>0.568301</td>\n",
              "      <td>0.091516</td>\n",
              "    </tr>\n",
              "    <tr>\n",
              "      <th>1</th>\n",
              "      <td>DecisionTreeClassifier(random_state=42)</td>\n",
              "      <td>[0.31, 0.41, 0.55, 0.55, 0.54]</td>\n",
              "      <td>0.473651</td>\n",
              "      <td>0.096400</td>\n",
              "    </tr>\n",
              "  </tbody>\n",
              "</table>\n",
              "</div>"
            ],
            "text/plain": [
              "                                     algorithm_model  \\\n",
              "7  StackingClassifier(estimators=[('logreg',\\n   ...   \n",
              "0  LogisticRegression(max_iter=1000, random_state...   \n",
              "3            RandomForestClassifier(random_state=42)   \n",
              "6  VotingClassifier(estimators=[('logreg',\\n     ...   \n",
              "4                AdaBoostClassifier(random_state=42)   \n",
              "2                             KNeighborsClassifier()   \n",
              "5        GradientBoostingClassifier(random_state=42)   \n",
              "1            DecisionTreeClassifier(random_state=42)   \n",
              "\n",
              "                    all_rec_score  mean_rec_score  std_score  \n",
              "7   [0.5, 0.55, 0.76, 0.67, 0.62]        0.620402   0.089977  \n",
              "0  [0.47, 0.67, 0.69, 0.67, 0.55]        0.607375   0.084848  \n",
              "3   [0.53, 0.6, 0.62, 0.64, 0.62]        0.603315   0.037651  \n",
              "6  [0.45, 0.52, 0.71, 0.71, 0.59]        0.595988   0.104117  \n",
              "4  [0.56, 0.52, 0.65, 0.71, 0.48]        0.585024   0.084788  \n",
              "2   [0.57, 0.48, 0.67, 0.6, 0.58]        0.580378   0.058376  \n",
              "5   [0.47, 0.52, 0.69, 0.67, 0.5]        0.568301   0.091516  \n",
              "1  [0.31, 0.41, 0.55, 0.55, 0.54]        0.473651   0.096400  "
            ]
          },
          "execution_count": 17,
          "metadata": {},
          "output_type": "execute_result"
        }
      ],
      "source": [
        "df_initial = pd.DataFrame()\n",
        "df_initial['algorithm_model'] = list_model\n",
        "df_initial['all_rec_score'] = list_all_score\n",
        "df_initial['mean_rec_score'] = list_mean_score\n",
        "df_initial['std_score'] = list_std\n",
        "\n",
        "df_initial.sort_values(by = 'mean_rec_score', ascending=False)"
      ]
    },
    {
      "cell_type": "code",
      "execution_count": 18,
      "metadata": {
        "colab": {
          "base_uri": "https://localhost:8080/",
          "height": 387
        },
        "id": "LfWqXsBlDJdJ",
        "outputId": "848a00f2-7f85-49a5-b70d-8905994db179"
      },
      "outputs": [
        {
          "data": {
            "text/html": [
              "<div>\n",
              "<style scoped>\n",
              "    .dataframe tbody tr th:only-of-type {\n",
              "        vertical-align: middle;\n",
              "    }\n",
              "\n",
              "    .dataframe tbody tr th {\n",
              "        vertical-align: top;\n",
              "    }\n",
              "\n",
              "    .dataframe thead th {\n",
              "        text-align: right;\n",
              "    }\n",
              "</style>\n",
              "<table border=\"1\" class=\"dataframe\">\n",
              "  <thead>\n",
              "    <tr style=\"text-align: right;\">\n",
              "      <th></th>\n",
              "      <th>algorithm_model</th>\n",
              "      <th>all_pre_score</th>\n",
              "      <th>mean_pre_score</th>\n",
              "      <th>std_score</th>\n",
              "    </tr>\n",
              "  </thead>\n",
              "  <tbody>\n",
              "    <tr>\n",
              "      <th>7</th>\n",
              "      <td>StackingClassifier(estimators=[('logreg',\\n   ...</td>\n",
              "      <td>[0.5, 0.55, 0.76, 0.67, 0.62]</td>\n",
              "      <td>0.620402</td>\n",
              "      <td>0.089977</td>\n",
              "    </tr>\n",
              "    <tr>\n",
              "      <th>0</th>\n",
              "      <td>LogisticRegression(max_iter=1000, random_state...</td>\n",
              "      <td>[0.47, 0.67, 0.69, 0.67, 0.55]</td>\n",
              "      <td>0.607375</td>\n",
              "      <td>0.084848</td>\n",
              "    </tr>\n",
              "    <tr>\n",
              "      <th>3</th>\n",
              "      <td>RandomForestClassifier(random_state=42)</td>\n",
              "      <td>[0.53, 0.6, 0.62, 0.64, 0.62]</td>\n",
              "      <td>0.603315</td>\n",
              "      <td>0.037651</td>\n",
              "    </tr>\n",
              "    <tr>\n",
              "      <th>6</th>\n",
              "      <td>VotingClassifier(estimators=[('logreg',\\n     ...</td>\n",
              "      <td>[0.45, 0.52, 0.71, 0.71, 0.59]</td>\n",
              "      <td>0.595988</td>\n",
              "      <td>0.104117</td>\n",
              "    </tr>\n",
              "    <tr>\n",
              "      <th>4</th>\n",
              "      <td>AdaBoostClassifier(random_state=42)</td>\n",
              "      <td>[0.56, 0.52, 0.65, 0.71, 0.48]</td>\n",
              "      <td>0.585024</td>\n",
              "      <td>0.084788</td>\n",
              "    </tr>\n",
              "    <tr>\n",
              "      <th>2</th>\n",
              "      <td>KNeighborsClassifier()</td>\n",
              "      <td>[0.57, 0.48, 0.67, 0.6, 0.58]</td>\n",
              "      <td>0.580378</td>\n",
              "      <td>0.058376</td>\n",
              "    </tr>\n",
              "    <tr>\n",
              "      <th>5</th>\n",
              "      <td>GradientBoostingClassifier(random_state=42)</td>\n",
              "      <td>[0.47, 0.52, 0.69, 0.67, 0.5]</td>\n",
              "      <td>0.568301</td>\n",
              "      <td>0.091516</td>\n",
              "    </tr>\n",
              "    <tr>\n",
              "      <th>1</th>\n",
              "      <td>DecisionTreeClassifier(random_state=42)</td>\n",
              "      <td>[0.31, 0.41, 0.55, 0.55, 0.54]</td>\n",
              "      <td>0.473651</td>\n",
              "      <td>0.096400</td>\n",
              "    </tr>\n",
              "  </tbody>\n",
              "</table>\n",
              "</div>"
            ],
            "text/plain": [
              "                                     algorithm_model  \\\n",
              "7  StackingClassifier(estimators=[('logreg',\\n   ...   \n",
              "0  LogisticRegression(max_iter=1000, random_state...   \n",
              "3            RandomForestClassifier(random_state=42)   \n",
              "6  VotingClassifier(estimators=[('logreg',\\n     ...   \n",
              "4                AdaBoostClassifier(random_state=42)   \n",
              "2                             KNeighborsClassifier()   \n",
              "5        GradientBoostingClassifier(random_state=42)   \n",
              "1            DecisionTreeClassifier(random_state=42)   \n",
              "\n",
              "                    all_pre_score  mean_pre_score  std_score  \n",
              "7   [0.5, 0.55, 0.76, 0.67, 0.62]        0.620402   0.089977  \n",
              "0  [0.47, 0.67, 0.69, 0.67, 0.55]        0.607375   0.084848  \n",
              "3   [0.53, 0.6, 0.62, 0.64, 0.62]        0.603315   0.037651  \n",
              "6  [0.45, 0.52, 0.71, 0.71, 0.59]        0.595988   0.104117  \n",
              "4  [0.56, 0.52, 0.65, 0.71, 0.48]        0.585024   0.084788  \n",
              "2   [0.57, 0.48, 0.67, 0.6, 0.58]        0.580378   0.058376  \n",
              "5   [0.47, 0.52, 0.69, 0.67, 0.5]        0.568301   0.091516  \n",
              "1  [0.31, 0.41, 0.55, 0.55, 0.54]        0.473651   0.096400  "
            ]
          },
          "execution_count": 18,
          "metadata": {},
          "output_type": "execute_result"
        }
      ],
      "source": [
        "df_initial = pd.DataFrame()\n",
        "df_initial['algorithm_model'] = list_model\n",
        "df_initial['all_pre_score'] = list_all_score\n",
        "df_initial['mean_pre_score'] = list_mean_score\n",
        "df_initial['std_score'] = list_std\n",
        "\n",
        "df_initial.sort_values(by = 'mean_pre_score', ascending=False)"
      ]
    },
    {
      "cell_type": "code",
      "execution_count": 19,
      "metadata": {
        "colab": {
          "base_uri": "https://localhost:8080/",
          "height": 439
        },
        "id": "OOKFz3baiA2d",
        "outputId": "0034c61c-0b71-4348-d216-da7143ae5855"
      },
      "outputs": [
        {
          "data": {
            "text/html": [
              "<div>\n",
              "<style scoped>\n",
              "    .dataframe tbody tr th:only-of-type {\n",
              "        vertical-align: middle;\n",
              "    }\n",
              "\n",
              "    .dataframe tbody tr th {\n",
              "        vertical-align: top;\n",
              "    }\n",
              "\n",
              "    .dataframe thead th {\n",
              "        text-align: right;\n",
              "    }\n",
              "</style>\n",
              "<table border=\"1\" class=\"dataframe\">\n",
              "  <thead>\n",
              "    <tr style=\"text-align: right;\">\n",
              "      <th></th>\n",
              "      <th>algorithm_model</th>\n",
              "      <th>all_f1_score</th>\n",
              "      <th>mean_f1_score</th>\n",
              "      <th>std_score</th>\n",
              "    </tr>\n",
              "  </thead>\n",
              "  <tbody>\n",
              "    <tr>\n",
              "      <th>7</th>\n",
              "      <td>StackingClassifier(estimators=[('logreg',\\n   ...</td>\n",
              "      <td>[0.5, 0.55, 0.76, 0.67, 0.62]</td>\n",
              "      <td>0.620402</td>\n",
              "      <td>0.089977</td>\n",
              "    </tr>\n",
              "    <tr>\n",
              "      <th>0</th>\n",
              "      <td>LogisticRegression(max_iter=1000, random_state...</td>\n",
              "      <td>[0.47, 0.67, 0.69, 0.67, 0.55]</td>\n",
              "      <td>0.607375</td>\n",
              "      <td>0.084848</td>\n",
              "    </tr>\n",
              "    <tr>\n",
              "      <th>3</th>\n",
              "      <td>RandomForestClassifier(random_state=42)</td>\n",
              "      <td>[0.53, 0.6, 0.62, 0.64, 0.62]</td>\n",
              "      <td>0.603315</td>\n",
              "      <td>0.037651</td>\n",
              "    </tr>\n",
              "    <tr>\n",
              "      <th>6</th>\n",
              "      <td>VotingClassifier(estimators=[('logreg',\\n     ...</td>\n",
              "      <td>[0.45, 0.52, 0.71, 0.71, 0.59]</td>\n",
              "      <td>0.595988</td>\n",
              "      <td>0.104117</td>\n",
              "    </tr>\n",
              "    <tr>\n",
              "      <th>4</th>\n",
              "      <td>AdaBoostClassifier(random_state=42)</td>\n",
              "      <td>[0.56, 0.52, 0.65, 0.71, 0.48]</td>\n",
              "      <td>0.585024</td>\n",
              "      <td>0.084788</td>\n",
              "    </tr>\n",
              "    <tr>\n",
              "      <th>2</th>\n",
              "      <td>KNeighborsClassifier()</td>\n",
              "      <td>[0.57, 0.48, 0.67, 0.6, 0.58]</td>\n",
              "      <td>0.580378</td>\n",
              "      <td>0.058376</td>\n",
              "    </tr>\n",
              "    <tr>\n",
              "      <th>5</th>\n",
              "      <td>GradientBoostingClassifier(random_state=42)</td>\n",
              "      <td>[0.47, 0.52, 0.69, 0.67, 0.5]</td>\n",
              "      <td>0.568301</td>\n",
              "      <td>0.091516</td>\n",
              "    </tr>\n",
              "    <tr>\n",
              "      <th>1</th>\n",
              "      <td>DecisionTreeClassifier(random_state=42)</td>\n",
              "      <td>[0.31, 0.41, 0.55, 0.55, 0.54]</td>\n",
              "      <td>0.473651</td>\n",
              "      <td>0.096400</td>\n",
              "    </tr>\n",
              "  </tbody>\n",
              "</table>\n",
              "</div>"
            ],
            "text/plain": [
              "                                     algorithm_model  \\\n",
              "7  StackingClassifier(estimators=[('logreg',\\n   ...   \n",
              "0  LogisticRegression(max_iter=1000, random_state...   \n",
              "3            RandomForestClassifier(random_state=42)   \n",
              "6  VotingClassifier(estimators=[('logreg',\\n     ...   \n",
              "4                AdaBoostClassifier(random_state=42)   \n",
              "2                             KNeighborsClassifier()   \n",
              "5        GradientBoostingClassifier(random_state=42)   \n",
              "1            DecisionTreeClassifier(random_state=42)   \n",
              "\n",
              "                     all_f1_score  mean_f1_score  std_score  \n",
              "7   [0.5, 0.55, 0.76, 0.67, 0.62]       0.620402   0.089977  \n",
              "0  [0.47, 0.67, 0.69, 0.67, 0.55]       0.607375   0.084848  \n",
              "3   [0.53, 0.6, 0.62, 0.64, 0.62]       0.603315   0.037651  \n",
              "6  [0.45, 0.52, 0.71, 0.71, 0.59]       0.595988   0.104117  \n",
              "4  [0.56, 0.52, 0.65, 0.71, 0.48]       0.585024   0.084788  \n",
              "2   [0.57, 0.48, 0.67, 0.6, 0.58]       0.580378   0.058376  \n",
              "5   [0.47, 0.52, 0.69, 0.67, 0.5]       0.568301   0.091516  \n",
              "1  [0.31, 0.41, 0.55, 0.55, 0.54]       0.473651   0.096400  "
            ]
          },
          "execution_count": 19,
          "metadata": {},
          "output_type": "execute_result"
        }
      ],
      "source": [
        "df_initial = pd.DataFrame()\n",
        "df_initial['algorithm_model'] = list_model\n",
        "df_initial['all_f1_score'] = list_all_score\n",
        "df_initial['mean_f1_score'] = list_mean_score\n",
        "df_initial['std_score'] = list_std\n",
        "\n",
        "df_initial.sort_values(by = 'mean_f1_score', ascending=False)"
      ]
    },
    {
      "cell_type": "markdown",
      "metadata": {
        "id": "aFYPkCrgSzDl"
      },
      "source": [
        "# Hyperparameter Tuning"
      ]
    },
    {
      "cell_type": "code",
      "execution_count": 20,
      "metadata": {
        "colab": {
          "base_uri": "https://localhost:8080/"
        },
        "id": "ZbVgPSqlUB21",
        "outputId": "1603a197-d1ca-4fb7-a683-8f05a8c81d3e"
      },
      "outputs": [
        {
          "name": "stdout",
          "output_type": "stream",
          "text": [
            "Model Accuracy: 0.7333\n"
          ]
        }
      ],
      "source": [
        "# ✅ Step 1: Split Data\n",
        "X_train, X_test, y_train, y_test = train_test_split(X, y, test_size=0.2, random_state=42, stratify=y)\n",
        "\n",
        "# ✅ Step 2: Apply SMOTE to Training Data\n",
        "smote = SMOTE(sampling_strategy='auto', random_state=42)\n",
        "X_train_resampled, y_train_resampled = smote.fit_resample(X_train, y_train)\n",
        "\n",
        "# ✅ Step 3: Define Pipeline (WITHOUT SMOTE inside)\n",
        "pipeline = Pipeline(steps=[\n",
        "    ('scaling', RobustScaler()),  # Preprocessing step\n",
        "    ('model', rf)  # Model\n",
        "])\n",
        "\n",
        "# ✅ Step 4: Fit the Pipeline with Resampled Data\n",
        "pipeline.fit(X_train_resampled, y_train_resampled)\n",
        "\n",
        "# ✅ Step 5: Evaluate the Model\n",
        "accuracy = pipeline.score(X_test, y_test)\n",
        "print(f\"Model Accuracy: {accuracy:.4f}\")"
      ]
    },
    {
      "cell_type": "markdown",
      "metadata": {},
      "source": [
        "# RF Model"
      ]
    },
    {
      "cell_type": "code",
      "execution_count": null,
      "metadata": {
        "colab": {
          "base_uri": "https://localhost:8080/"
        },
        "id": "2-enifrPXaE1",
        "outputId": "6b478f6c-610c-4cdd-d666-a1237aff9ca8"
      },
      "outputs": [
        {
          "name": "stdout",
          "output_type": "stream",
          "text": [
            "Fitting 5 folds for each of 100 candidates, totalling 500 fits\n",
            "Best Parameters: {'model__n_estimators': 400, 'model__min_samples_split': 2, 'model__min_samples_leaf': 1, 'model__max_features': 'sqrt', 'model__max_depth': 10, 'model__class_weight': 'balanced_subsample', 'model__bootstrap': True}\n",
            "Best Accuracy Score: 0.8209615384615384\n"
          ]
        }
      ],
      "source": [
        "# ✅ Define the Model\n",
        "rf = RandomForestClassifier(random_state=42)\n",
        "\n",
        "# ✅ Apply SMOTE Before the Pipeline\n",
        "smote = SMOTE(sampling_strategy='auto', random_state=42)\n",
        "X_train_resampled, y_train_resampled = smote.fit_resample(X_train, y_train)\n",
        "\n",
        "# Shuffle the resampled data to avoid bias\n",
        "X_train_resampled, y_train_resampled = shuffle(X_train_resampled, y_train_resampled, random_state=42)\n",
        "\n",
        "# ✅ Define the Pipeline (Without SMOTE Inside)\n",
        "pipeline = Pipeline(steps=[\n",
        "    ('scaling', RobustScaler()),  # Feature Scaling\n",
        "    ('model', rf)  # Random Forest Model\n",
        "])\n",
        "\n",
        "# Hyperparameter for Random Forest\n",
        "param_grid = {\n",
        "    'model__n_estimators': [100, 200, 300, 400, 500],  # Number of trees in the forest\n",
        "    'model__max_depth': [None, 10, 20, 30, 40, 50],    # Maximum depth of the tree\n",
        "    'model__min_samples_split': [2, 5, 10],            # Minimum number of samples required to split an internal node\n",
        "    'model__min_samples_leaf': [1, 2, 4],              # Minimum number of samples required to be at a leaf node\n",
        "    'model__max_features': ['auto', 'sqrt', 'log2'],   # Number of features to consider when looking for the best split\n",
        "    'model__bootstrap': [True, False],                 # Whether bootstrap samples are used when building trees\n",
        "    'model__class_weight': [None, 'balanced', 'balanced_subsample']  # Class imbalance handling\n",
        "}\n",
        "\n",
        "# ✅ Perform Randomized Search with Cross-Validation\n",
        "random_search = RandomizedSearchCV(\n",
        "    estimator=pipeline,\n",
        "    param_distributions=param_grid,\n",
        "    n_iter=100,  # Number of different combinations to try (reduced for faster computation)\n",
        "    cv=5,  # 5-fold cross-validation\n",
        "    scoring='accuracy',  # Metric to optimize\n",
        "    n_jobs=-1,  # Use all CPU cores\n",
        "    verbose=2,\n",
        "    random_state=42\n",
        ")\n",
        "\n",
        "# ✅ Fit the Model on Resampled Data\n",
        "random_search.fit(X_train_resampled, y_train_resampled)\n",
        "\n",
        "# ✅ Best Parameters & Accuracy Score\n",
        "print(\"Best Parameters:\", random_search.best_params_)\n",
        "print(\"Best Accuracy Score:\", random_search.best_score_)"
      ]
    },
    {
      "cell_type": "code",
      "execution_count": null,
      "metadata": {
        "colab": {
          "base_uri": "https://localhost:8080/",
          "height": 200
        },
        "id": "oqeMu2b9iA0Q",
        "outputId": "6fc08e20-d519-42ac-cc79-cfb59b729ce9"
      },
      "outputs": [
        {
          "name": "stdout",
          "output_type": "stream",
          "text": [
            "🔹 Accuracy: 0.7333\n",
            "🔹 Precision: 0.5882\n",
            "🔹 Recall: 0.5263\n",
            "🔹 F1 Score: 0.5556\n",
            "🔹 ROC-AUC Score: 0.7997\n",
            "\n",
            "🔹 Confusion Matrix:\n",
            "[[34  7]\n",
            " [ 9 10]]\n"
          ]
        }
      ],
      "source": [
        "# ✅ Load the Best Model from RandomizedSearchCV\n",
        "best_model = random_search.best_estimator_\n",
        "\n",
        "# ✅ Predict on the Test Set\n",
        "y_pred = best_model.predict(X_test)\n",
        "y_pred_prob = best_model.predict_proba(X_test)[:, 1]  # Probabilities for class 1 (heart failure risk)\n",
        "\n",
        "# ✅ Compute Evaluation Metrics\n",
        "accuracy = accuracy_score(y_test, y_pred)\n",
        "precision = precision_score(y_test, y_pred)\n",
        "recall = recall_score(y_test, y_pred)\n",
        "f1 = f1_score(y_test, y_pred)\n",
        "roc_auc = roc_auc_score(y_test, y_pred_prob)\n",
        "\n",
        "# ✅ Confusion Matrix\n",
        "conf_matrix = confusion_matrix(y_test, y_pred)\n",
        "\n",
        "# ✅ Print Metrics\n",
        "print(f\"🔹 Accuracy: {accuracy:.4f}\")\n",
        "print(f\"🔹 Precision: {precision:.4f}\")\n",
        "print(f\"🔹 Recall: {recall:.4f}\")\n",
        "print(f\"🔹 F1 Score: {f1:.4f}\")\n",
        "print(f\"🔹 ROC-AUC Score: {roc_auc:.4f}\")\n",
        "print(\"\\n🔹 Confusion Matrix:\")\n",
        "print(conf_matrix)"
      ]
    },
    {
      "cell_type": "code",
      "execution_count": 24,
      "metadata": {
        "colab": {
          "base_uri": "https://localhost:8080/"
        },
        "id": "9PZ7_FLYczSq",
        "outputId": "cb61a353-7694-4f9c-9386-021be45dd0f3"
      },
      "outputs": [
        {
          "name": "stdout",
          "output_type": "stream",
          "text": [
            "              precision    recall  f1-score   support\n",
            "\n",
            "           0     0.7907    0.8293    0.8095        41\n",
            "           1     0.5882    0.5263    0.5556        19\n",
            "\n",
            "    accuracy                         0.7333        60\n",
            "   macro avg     0.6895    0.6778    0.6825        60\n",
            "weighted avg     0.7266    0.7333    0.7291        60\n",
            "\n"
          ]
        }
      ],
      "source": [
        "print(classification_report(y_test, y_pred, digits=4))"
      ]
    },
    {
      "cell_type": "markdown",
      "metadata": {},
      "source": [
        "# Threshold"
      ]
    },
    {
      "cell_type": "code",
      "execution_count": null,
      "metadata": {},
      "outputs": [
        {
          "name": "stdout",
          "output_type": "stream",
          "text": [
            "🔹 Best Threshold: 0.25000000000000006 (Recall: 0.8947, F1 Score: 0.6296)\n"
          ]
        },
        {
          "data": {
            "text/html": [
              "<div>\n",
              "<style scoped>\n",
              "    .dataframe tbody tr th:only-of-type {\n",
              "        vertical-align: middle;\n",
              "    }\n",
              "\n",
              "    .dataframe tbody tr th {\n",
              "        vertical-align: top;\n",
              "    }\n",
              "\n",
              "    .dataframe thead th {\n",
              "        text-align: right;\n",
              "    }\n",
              "</style>\n",
              "<table border=\"1\" class=\"dataframe\">\n",
              "  <thead>\n",
              "    <tr style=\"text-align: right;\">\n",
              "      <th></th>\n",
              "      <th>Threshold</th>\n",
              "      <th>Accuracy</th>\n",
              "      <th>Precision</th>\n",
              "      <th>Recall</th>\n",
              "      <th>F1 Score</th>\n",
              "      <th>ROC AUC</th>\n",
              "    </tr>\n",
              "  </thead>\n",
              "  <tbody>\n",
              "    <tr>\n",
              "      <th>0</th>\n",
              "      <td>0.10</td>\n",
              "      <td>0.466667</td>\n",
              "      <td>0.372549</td>\n",
              "      <td>1.000000</td>\n",
              "      <td>0.542857</td>\n",
              "      <td>0.799743</td>\n",
              "    </tr>\n",
              "    <tr>\n",
              "      <th>1</th>\n",
              "      <td>0.15</td>\n",
              "      <td>0.550000</td>\n",
              "      <td>0.409091</td>\n",
              "      <td>0.947368</td>\n",
              "      <td>0.571429</td>\n",
              "      <td>0.799743</td>\n",
              "    </tr>\n",
              "    <tr>\n",
              "      <th>2</th>\n",
              "      <td>0.20</td>\n",
              "      <td>0.600000</td>\n",
              "      <td>0.439024</td>\n",
              "      <td>0.947368</td>\n",
              "      <td>0.600000</td>\n",
              "      <td>0.799743</td>\n",
              "    </tr>\n",
              "    <tr>\n",
              "      <th>3</th>\n",
              "      <td>0.25</td>\n",
              "      <td>0.666667</td>\n",
              "      <td>0.485714</td>\n",
              "      <td>0.894737</td>\n",
              "      <td>0.629630</td>\n",
              "      <td>0.799743</td>\n",
              "    </tr>\n",
              "    <tr>\n",
              "      <th>4</th>\n",
              "      <td>0.30</td>\n",
              "      <td>0.650000</td>\n",
              "      <td>0.468750</td>\n",
              "      <td>0.789474</td>\n",
              "      <td>0.588235</td>\n",
              "      <td>0.799743</td>\n",
              "    </tr>\n",
              "    <tr>\n",
              "      <th>5</th>\n",
              "      <td>0.35</td>\n",
              "      <td>0.683333</td>\n",
              "      <td>0.500000</td>\n",
              "      <td>0.789474</td>\n",
              "      <td>0.612245</td>\n",
              "      <td>0.799743</td>\n",
              "    </tr>\n",
              "    <tr>\n",
              "      <th>6</th>\n",
              "      <td>0.40</td>\n",
              "      <td>0.716667</td>\n",
              "      <td>0.538462</td>\n",
              "      <td>0.736842</td>\n",
              "      <td>0.622222</td>\n",
              "      <td>0.799743</td>\n",
              "    </tr>\n",
              "    <tr>\n",
              "      <th>7</th>\n",
              "      <td>0.45</td>\n",
              "      <td>0.733333</td>\n",
              "      <td>0.571429</td>\n",
              "      <td>0.631579</td>\n",
              "      <td>0.600000</td>\n",
              "      <td>0.799743</td>\n",
              "    </tr>\n",
              "    <tr>\n",
              "      <th>8</th>\n",
              "      <td>0.50</td>\n",
              "      <td>0.733333</td>\n",
              "      <td>0.588235</td>\n",
              "      <td>0.526316</td>\n",
              "      <td>0.555556</td>\n",
              "      <td>0.799743</td>\n",
              "    </tr>\n",
              "    <tr>\n",
              "      <th>9</th>\n",
              "      <td>0.55</td>\n",
              "      <td>0.733333</td>\n",
              "      <td>0.600000</td>\n",
              "      <td>0.473684</td>\n",
              "      <td>0.529412</td>\n",
              "      <td>0.799743</td>\n",
              "    </tr>\n",
              "    <tr>\n",
              "      <th>10</th>\n",
              "      <td>0.60</td>\n",
              "      <td>0.750000</td>\n",
              "      <td>0.666667</td>\n",
              "      <td>0.421053</td>\n",
              "      <td>0.516129</td>\n",
              "      <td>0.799743</td>\n",
              "    </tr>\n",
              "    <tr>\n",
              "      <th>11</th>\n",
              "      <td>0.65</td>\n",
              "      <td>0.750000</td>\n",
              "      <td>0.666667</td>\n",
              "      <td>0.421053</td>\n",
              "      <td>0.516129</td>\n",
              "      <td>0.799743</td>\n",
              "    </tr>\n",
              "    <tr>\n",
              "      <th>12</th>\n",
              "      <td>0.70</td>\n",
              "      <td>0.766667</td>\n",
              "      <td>0.777778</td>\n",
              "      <td>0.368421</td>\n",
              "      <td>0.500000</td>\n",
              "      <td>0.799743</td>\n",
              "    </tr>\n",
              "    <tr>\n",
              "      <th>13</th>\n",
              "      <td>0.75</td>\n",
              "      <td>0.766667</td>\n",
              "      <td>0.857143</td>\n",
              "      <td>0.315789</td>\n",
              "      <td>0.461538</td>\n",
              "      <td>0.799743</td>\n",
              "    </tr>\n",
              "    <tr>\n",
              "      <th>14</th>\n",
              "      <td>0.80</td>\n",
              "      <td>0.700000</td>\n",
              "      <td>0.666667</td>\n",
              "      <td>0.105263</td>\n",
              "      <td>0.181818</td>\n",
              "      <td>0.799743</td>\n",
              "    </tr>\n",
              "    <tr>\n",
              "      <th>15</th>\n",
              "      <td>0.85</td>\n",
              "      <td>0.700000</td>\n",
              "      <td>0.666667</td>\n",
              "      <td>0.105263</td>\n",
              "      <td>0.181818</td>\n",
              "      <td>0.799743</td>\n",
              "    </tr>\n",
              "    <tr>\n",
              "      <th>16</th>\n",
              "      <td>0.90</td>\n",
              "      <td>0.700000</td>\n",
              "      <td>0.666667</td>\n",
              "      <td>0.105263</td>\n",
              "      <td>0.181818</td>\n",
              "      <td>0.799743</td>\n",
              "    </tr>\n",
              "    <tr>\n",
              "      <th>17</th>\n",
              "      <td>0.95</td>\n",
              "      <td>0.700000</td>\n",
              "      <td>1.000000</td>\n",
              "      <td>0.052632</td>\n",
              "      <td>0.100000</td>\n",
              "      <td>0.799743</td>\n",
              "    </tr>\n",
              "  </tbody>\n",
              "</table>\n",
              "</div>"
            ],
            "text/plain": [
              "    Threshold  Accuracy  Precision    Recall  F1 Score   ROC AUC\n",
              "0        0.10  0.466667   0.372549  1.000000  0.542857  0.799743\n",
              "1        0.15  0.550000   0.409091  0.947368  0.571429  0.799743\n",
              "2        0.20  0.600000   0.439024  0.947368  0.600000  0.799743\n",
              "3        0.25  0.666667   0.485714  0.894737  0.629630  0.799743\n",
              "4        0.30  0.650000   0.468750  0.789474  0.588235  0.799743\n",
              "5        0.35  0.683333   0.500000  0.789474  0.612245  0.799743\n",
              "6        0.40  0.716667   0.538462  0.736842  0.622222  0.799743\n",
              "7        0.45  0.733333   0.571429  0.631579  0.600000  0.799743\n",
              "8        0.50  0.733333   0.588235  0.526316  0.555556  0.799743\n",
              "9        0.55  0.733333   0.600000  0.473684  0.529412  0.799743\n",
              "10       0.60  0.750000   0.666667  0.421053  0.516129  0.799743\n",
              "11       0.65  0.750000   0.666667  0.421053  0.516129  0.799743\n",
              "12       0.70  0.766667   0.777778  0.368421  0.500000  0.799743\n",
              "13       0.75  0.766667   0.857143  0.315789  0.461538  0.799743\n",
              "14       0.80  0.700000   0.666667  0.105263  0.181818  0.799743\n",
              "15       0.85  0.700000   0.666667  0.105263  0.181818  0.799743\n",
              "16       0.90  0.700000   0.666667  0.105263  0.181818  0.799743\n",
              "17       0.95  0.700000   1.000000  0.052632  0.100000  0.799743"
            ]
          },
          "metadata": {},
          "output_type": "display_data"
        }
      ],
      "source": [
        "# ✅ Define thresholds to test\n",
        "thresholds = np.arange(0.1, 1, 0.05)  # Test from 0.1 to 0.55 in steps of 0.05\n",
        "\n",
        "best_threshold = 0\n",
        "best_recall = 0\n",
        "best_f1 = 0\n",
        "\n",
        "# ✅ Store results for comparison\n",
        "threshold_results = []\n",
        "\n",
        "for threshold in thresholds:\n",
        "    y_pred_adjusted = (y_pred_prob >= threshold).astype(int)  # Adjust threshold\n",
        "    \n",
        "    accuracy = accuracy_score(y_test, y_pred_adjusted)\n",
        "    precision = precision_score(y_test, y_pred_adjusted)\n",
        "    recall = recall_score(y_test, y_pred_adjusted)\n",
        "    f1 = f1_score(y_test, y_pred_adjusted)\n",
        "    roc_auc = roc_auc_score(y_test, y_pred_prob)\n",
        "\n",
        "    # Save the best threshold based on F1-Score or Recall priority\n",
        "    if f1 > best_f1:\n",
        "        best_threshold = threshold\n",
        "        best_recall = recall\n",
        "        best_f1 = f1\n",
        "\n",
        "    threshold_results.append((threshold, accuracy, precision, recall, f1, roc_auc))\n",
        "\n",
        "# ✅ Convert results into a DataFrame for better visualization\n",
        "import pandas as pd\n",
        "threshold_df = pd.DataFrame(threshold_results, columns=['Threshold', 'Accuracy', 'Precision', 'Recall', 'F1 Score', 'ROC AUC'])\n",
        "\n",
        "# ✅ Display best threshold based on recall\n",
        "print(f\"🔹 Best Threshold: {best_threshold} (Recall: {best_recall:.4f}, F1 Score: {best_f1:.4f})\")\n",
        "\n",
        "# ✅ Display results\n",
        "display(threshold_df)\n"
      ]
    },
    {
      "cell_type": "code",
      "execution_count": 27,
      "metadata": {},
      "outputs": [
        {
          "name": "stdout",
          "output_type": "stream",
          "text": [
            "              precision    recall  f1-score   support\n",
            "\n",
            "           0     0.9200    0.5610    0.6970        41\n",
            "           1     0.4857    0.8947    0.6296        19\n",
            "\n",
            "    accuracy                         0.6667        60\n",
            "   macro avg     0.7029    0.7279    0.6633        60\n",
            "weighted avg     0.7825    0.6667    0.6756        60\n",
            "\n"
          ]
        }
      ],
      "source": [
        "optimal_threshold = 0.25\n",
        "y_pred_final = (y_pred_prob >= optimal_threshold).astype(int)\n",
        "\n",
        "print(classification_report(y_test, y_pred_final, digits=4))\n"
      ]
    },
    {
      "cell_type": "code",
      "execution_count": 28,
      "metadata": {},
      "outputs": [
        {
          "name": "stdout",
          "output_type": "stream",
          "text": [
            "🎯 Model and threshold saved successfully!\n"
          ]
        }
      ],
      "source": [
        "import pickle\n",
        "\n",
        "# ✅ Save the trained model\n",
        "with open(\"final_rf_model.pkl\", \"wb\") as model_file:\n",
        "    pickle.dump(best_model, model_file)\n",
        "\n",
        "# ✅ Save the optimal threshold separately\n",
        "with open(\"optimal_threshold_rf.pkl\", \"wb\") as threshold_file:\n",
        "    pickle.dump(0.4, threshold_file)\n",
        "\n",
        "print(\"🎯 Model and threshold saved successfully!\")\n"
      ]
    },
    {
      "cell_type": "code",
      "execution_count": null,
      "metadata": {},
      "outputs": [
        {
          "data": {
            "text/html": [
              "<div>\n",
              "<style scoped>\n",
              "    .dataframe tbody tr th:only-of-type {\n",
              "        vertical-align: middle;\n",
              "    }\n",
              "\n",
              "    .dataframe tbody tr th {\n",
              "        vertical-align: top;\n",
              "    }\n",
              "\n",
              "    .dataframe thead th {\n",
              "        text-align: right;\n",
              "    }\n",
              "</style>\n",
              "<table border=\"1\" class=\"dataframe\">\n",
              "  <thead>\n",
              "    <tr style=\"text-align: right;\">\n",
              "      <th></th>\n",
              "      <th>Feature</th>\n",
              "      <th>Importance</th>\n",
              "    </tr>\n",
              "  </thead>\n",
              "  <tbody>\n",
              "    <tr>\n",
              "      <th>7</th>\n",
              "      <td>serum_creatinine</td>\n",
              "      <td>0.231363</td>\n",
              "    </tr>\n",
              "    <tr>\n",
              "      <th>4</th>\n",
              "      <td>ejection_fraction</td>\n",
              "      <td>0.190312</td>\n",
              "    </tr>\n",
              "    <tr>\n",
              "      <th>2</th>\n",
              "      <td>creatinine_phosphokinase</td>\n",
              "      <td>0.127173</td>\n",
              "    </tr>\n",
              "    <tr>\n",
              "      <th>0</th>\n",
              "      <td>age</td>\n",
              "      <td>0.121311</td>\n",
              "    </tr>\n",
              "    <tr>\n",
              "      <th>6</th>\n",
              "      <td>platelets</td>\n",
              "      <td>0.109765</td>\n",
              "    </tr>\n",
              "    <tr>\n",
              "      <th>8</th>\n",
              "      <td>serum_sodium</td>\n",
              "      <td>0.108152</td>\n",
              "    </tr>\n",
              "    <tr>\n",
              "      <th>5</th>\n",
              "      <td>high_blood_pressure</td>\n",
              "      <td>0.025509</td>\n",
              "    </tr>\n",
              "    <tr>\n",
              "      <th>1</th>\n",
              "      <td>anaemia</td>\n",
              "      <td>0.023775</td>\n",
              "    </tr>\n",
              "    <tr>\n",
              "      <th>10</th>\n",
              "      <td>smoking</td>\n",
              "      <td>0.022285</td>\n",
              "    </tr>\n",
              "    <tr>\n",
              "      <th>3</th>\n",
              "      <td>diabetes</td>\n",
              "      <td>0.020448</td>\n",
              "    </tr>\n",
              "    <tr>\n",
              "      <th>9</th>\n",
              "      <td>sex</td>\n",
              "      <td>0.019907</td>\n",
              "    </tr>\n",
              "  </tbody>\n",
              "</table>\n",
              "</div>"
            ],
            "text/plain": [
              "                     Feature  Importance\n",
              "7           serum_creatinine    0.231363\n",
              "4          ejection_fraction    0.190312\n",
              "2   creatinine_phosphokinase    0.127173\n",
              "0                        age    0.121311\n",
              "6                  platelets    0.109765\n",
              "8               serum_sodium    0.108152\n",
              "5        high_blood_pressure    0.025509\n",
              "1                    anaemia    0.023775\n",
              "10                   smoking    0.022285\n",
              "3                   diabetes    0.020448\n",
              "9                        sex    0.019907"
            ]
          },
          "execution_count": 32,
          "metadata": {},
          "output_type": "execute_result"
        }
      ],
      "source": [
        "# ✅ Define Random Forest Model Again\n",
        "rf_model = RandomForestClassifier(n_estimators=100, random_state=42)\n",
        "\n",
        "# ✅ Train the Model (Ensure X_train and y_train are defined)\n",
        "rf_model.fit(X_train, y_train)\n",
        "\n",
        "# ✅ Extract Feature Importances\n",
        "importances = rf_model.feature_importances_\n",
        "\n",
        "# ✅ Feature Names (Ensure these match your dataset)\n",
        "feature_names = [\n",
        "    \"age\", \"anaemia\", \"creatinine_phosphokinase\", \"diabetes\",\n",
        "    \"ejection_fraction\", \"high_blood_pressure\", \"platelets\",\n",
        "    \"serum_creatinine\", \"serum_sodium\", \"sex\", \"smoking\"\n",
        "]\n",
        "\n",
        "# ✅ Create a DataFrame for Feature Importance\n",
        "rf_feature_importance_df = pd.DataFrame({\n",
        "    'Feature': feature_names,\n",
        "    'Importance': importances\n",
        "}).sort_values(by=\"Importance\", ascending=False)\n",
        "rf_feature_importance_df"
      ]
    },
    {
      "cell_type": "code",
      "execution_count": 38,
      "metadata": {},
      "outputs": [
        {
          "data": {
            "image/png": "[encoded data removed]",
            "text/plain": [
              "<Figure size 576x360 with 1 Axes>"
            ]
          },
          "metadata": {
            "needs_background": "light"
          },
          "output_type": "display_data"
        }
      ],
      "source": [
        "# ✅ Sort features by importance for better visualization\n",
        "rf_feature_importance_df = rf_feature_importance_df.sort_values(by=\"Importance\", ascending=False)\n",
        "\n",
        "# ✅ Plot Feature Importance\n",
        "plt.figure(figsize=(8, 5))\n",
        "plt.barh(rf_feature_importance_df[\"Feature\"], rf_feature_importance_df[\"Importance\"], color='blue')\n",
        "plt.xlabel(\"Importance Score\")\n",
        "plt.ylabel(\"Feature\")\n",
        "plt.title(\"Feature Importance\")\n",
        "plt.gca().invert_yaxis()  # Highest importance on top\n",
        "plt.show()"
      ]
    },
    {
      "cell_type": "code",
      "execution_count": null,
      "metadata": {},
      "outputs": [],
      "source": []
    }
  ],
  "metadata": {
    "colab": {
      "provenance": [],
      "toc_visible": true
    },
    "kernelspec": {
      "display_name": "Python 3",
      "name": "python3"
    },
    "language_info": {
      "codemirror_mode": {
        "name": "ipython",
        "version": 3
      },
      "file_extension": ".py",
      "mimetype": "text/x-python",
      "name": "python",
      "nbconvert_exporter": "python",
      "pygments_lexer": "ipython3",
      "version": "3.9.7"
    }
  },
  "nbformat": 4,
  "nbformat_minor": 0
}
